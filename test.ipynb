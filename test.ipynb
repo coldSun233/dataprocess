{
 "cells": [
  {
   "cell_type": "code",
   "execution_count": 2,
   "metadata": {},
   "outputs": [],
   "source": [
    "import numpy as np"
   ]
  },
  {
   "cell_type": "code",
   "execution_count": 4,
   "metadata": {},
   "outputs": [
    {
     "name": "stdout",
     "output_type": "stream",
     "text": [
      "[[1]\n",
      " [3]]\n",
      "2.0\n"
     ]
    }
   ],
   "source": [
    "data = np.mat([[1,2,3],[3,4,5]])\n",
    "print(data[:,0])\n",
    "avg = np.mean(data[:,0])\n",
    "print(avg)"
   ]
  }
 ],
 "metadata": {
  "interpreter": {
   "hash": "0a15ee8102b585ca66226add757c82cfef1646202c21a5dd369849432ae8c823"
  },
  "kernelspec": {
   "display_name": "Python 3.7.5 64-bit ('jupyter_env': virtualenv)",
   "language": "python",
   "name": "python3"
  },
  "language_info": {
   "codemirror_mode": {
    "name": "ipython",
    "version": 3
   },
   "file_extension": ".py",
   "mimetype": "text/x-python",
   "name": "python",
   "nbconvert_exporter": "python",
   "pygments_lexer": "ipython3",
   "version": "3.7.5"
  },
  "orig_nbformat": 4
 },
 "nbformat": 4,
 "nbformat_minor": 2
}
