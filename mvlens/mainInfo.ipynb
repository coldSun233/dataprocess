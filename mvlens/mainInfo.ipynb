{
 "cells": [
  {
   "cell_type": "code",
   "execution_count": 112,
   "metadata": {},
   "outputs": [],
   "source": [
    "import pandas as pd\n",
    "import numpy as np\n",
    "\n",
    "movies_file = r'./movies.dat'\n",
    "users_file = r'./users.dat'\n",
    "ratings_file = r'./ratings.dat'"
   ]
  },
  {
   "cell_type": "markdown",
   "metadata": {},
   "source": [
    "## auxInfo的生成"
   ]
  },
  {
   "cell_type": "markdown",
   "metadata": {},
   "source": [
    "### 用户信息导入"
   ]
  },
  {
   "cell_type": "code",
   "execution_count": 113,
   "metadata": {},
   "outputs": [
    {
     "name": "stdout",
     "output_type": "stream",
     "text": [
      "   user_id gender  age  occupation\n",
      "0        1      F    1          10\n",
      "1        2      M   56          16\n",
      "2        3      M   25          15\n",
      "3        4      M   45           7\n",
      "4        5      M   25          20\n"
     ]
    }
   ],
   "source": [
    "#  用户信息\n",
    "uname = ['user_id','gender','age','occupation','zip']\n",
    "users = pd.read_table(users_file, sep='::', header = None, names=uname, engine='python')\n",
    "users = users[['user_id','gender','age','occupation']]\n",
    "print(users.head())"
   ]
  },
  {
   "cell_type": "code",
   "execution_count": 114,
   "metadata": {},
   "outputs": [
    {
     "name": "stdout",
     "output_type": "stream",
     "text": [
      "   user_id\n",
      "0        1\n",
      "1        2\n",
      "2        3\n",
      "3        4\n",
      "4        5\n"
     ]
    }
   ],
   "source": [
    "aux_info = pd.DataFrame()\n",
    "aux_info['user_id'] = users['user_id']\n",
    "print(aux_info.head())"
   ]
  },
  {
   "cell_type": "markdown",
   "metadata": {},
   "source": [
    "### 年龄的离散化"
   ]
  },
  {
   "cell_type": "code",
   "execution_count": 115,
   "metadata": {},
   "outputs": [
    {
     "name": "stdout",
     "output_type": "stream",
     "text": [
      "   user_id  age\n",
      "0        1    1\n",
      "1        2    7\n",
      "2        3    3\n",
      "3        4    5\n",
      "4        5    3\n"
     ]
    }
   ],
   "source": [
    "ages = pd.Series(users['age'].unique()).sort_values().reset_index(drop=True)\n",
    "aux_info['age'] = users['age'].map(lambda x: ages[ages.values == x].index[0] + 1)\n",
    "print(aux_info.head())"
   ]
  },
  {
   "cell_type": "markdown",
   "metadata": {},
   "source": [
    "### one-hot encoding"
   ]
  },
  {
   "cell_type": "code",
   "execution_count": 116,
   "metadata": {},
   "outputs": [
    {
     "name": "stdout",
     "output_type": "stream",
     "text": [
      "   user_id  age  F  M  0  1  2  3  4  5  ...  11  12  13  14  15  16  17  18  \\\n",
      "0        1    1  1  0  0  0  0  0  0  0  ...   0   0   0   0   0   0   0   0   \n",
      "1        2    7  0  1  0  0  0  0  0  0  ...   0   0   0   0   0   1   0   0   \n",
      "2        3    3  0  1  0  0  0  0  0  0  ...   0   0   0   0   1   0   0   0   \n",
      "3        4    5  0  1  0  0  0  0  0  0  ...   0   0   0   0   0   0   0   0   \n",
      "4        5    3  0  1  0  0  0  0  0  0  ...   0   0   0   0   0   0   0   0   \n",
      "\n",
      "   19  20  \n",
      "0   0   0  \n",
      "1   0   0  \n",
      "2   0   0  \n",
      "3   0   0  \n",
      "4   0   1  \n",
      "\n",
      "[5 rows x 25 columns]\n"
     ]
    }
   ],
   "source": [
    "# 性别热独编码\n",
    "aux_info = pd.concat([aux_info, pd.get_dummies(users['gender'])], axis=1)\n",
    "# 职业热独编码\n",
    "aux_info = pd.concat([aux_info, pd.get_dummies(users['occupation'])], axis=1)\n",
    "print(aux_info.head())"
   ]
  },
  {
   "cell_type": "markdown",
   "metadata": {},
   "source": [
    "### 存储auxInfo"
   ]
  },
  {
   "cell_type": "code",
   "execution_count": 117,
   "metadata": {},
   "outputs": [],
   "source": [
    "aux_info.to_csv('aux_info.csv', index=False)"
   ]
  },
  {
   "cell_type": "markdown",
   "metadata": {},
   "source": [
    "## mianInfo的生成"
   ]
  },
  {
   "cell_type": "markdown",
   "metadata": {},
   "source": [
    "### 电影信息导入"
   ]
  },
  {
   "cell_type": "code",
   "execution_count": 118,
   "metadata": {},
   "outputs": [
    {
     "name": "stdout",
     "output_type": "stream",
     "text": [
      "      movie_id                               title  \\\n",
      "0            1                    Toy Story (1995)   \n",
      "1            2                      Jumanji (1995)   \n",
      "2            3             Grumpier Old Men (1995)   \n",
      "3            4            Waiting to Exhale (1995)   \n",
      "4            5  Father of the Bride Part II (1995)   \n",
      "...        ...                                 ...   \n",
      "3878      3948             Meet the Parents (2000)   \n",
      "3879      3949          Requiem for a Dream (2000)   \n",
      "3880      3950                    Tigerland (2000)   \n",
      "3881      3951             Two Family House (2000)   \n",
      "3882      3952               Contender, The (2000)   \n",
      "\n",
      "                            genres  \n",
      "0      Animation|Children's|Comedy  \n",
      "1     Adventure|Children's|Fantasy  \n",
      "2                   Comedy|Romance  \n",
      "3                     Comedy|Drama  \n",
      "4                           Comedy  \n",
      "...                            ...  \n",
      "3878                        Comedy  \n",
      "3879                         Drama  \n",
      "3880                         Drama  \n",
      "3881                         Drama  \n",
      "3882                Drama|Thriller  \n",
      "\n",
      "[3883 rows x 3 columns]\n"
     ]
    }
   ],
   "source": [
    "#  电影信息\n",
    "mnames = ['movie_id', 'title', 'genres']\n",
    "movies = pd.read_table(movies_file, sep='::', header=None, names=mnames, engine='python')\n",
    "print(movies)"
   ]
  },
  {
   "cell_type": "markdown",
   "metadata": {},
   "source": [
    "### 电影信息处理"
   ]
  },
  {
   "cell_type": "code",
   "execution_count": 119,
   "metadata": {},
   "outputs": [
    {
     "name": "stdout",
     "output_type": "stream",
     "text": [
      "   movie_id                               title      genres\n",
      "0         1                    Toy Story (1995)   Animation\n",
      "0         1                    Toy Story (1995)  Children's\n",
      "0         1                    Toy Story (1995)      Comedy\n",
      "1         2                      Jumanji (1995)   Adventure\n",
      "1         2                      Jumanji (1995)  Children's\n",
      "1         2                      Jumanji (1995)     Fantasy\n",
      "2         3             Grumpier Old Men (1995)      Comedy\n",
      "2         3             Grumpier Old Men (1995)     Romance\n",
      "3         4            Waiting to Exhale (1995)      Comedy\n",
      "3         4            Waiting to Exhale (1995)       Drama\n",
      "4         5  Father of the Bride Part II (1995)      Comedy\n",
      "5         6                         Heat (1995)      Action\n",
      "5         6                         Heat (1995)       Crime\n",
      "5         6                         Heat (1995)    Thriller\n",
      "6         7                      Sabrina (1995)      Comedy\n",
      "6         7                      Sabrina (1995)     Romance\n",
      "7         8                 Tom and Huck (1995)   Adventure\n",
      "7         8                 Tom and Huck (1995)  Children's\n",
      "8         9                 Sudden Death (1995)      Action\n",
      "9        10                    GoldenEye (1995)      Action\n"
     ]
    }
   ],
   "source": [
    "# 将电影类型拆为多行\n",
    "movies_result = movies.drop(['genres'], axis=1).join(movies['genres'].str.split('|', expand=True).stack().reset_index(level=1, drop=True).rename('genres'))\n",
    "# movies_result.drop(['title'], axis=1, inplace=True)\n",
    "print(movies_result.head(20))"
   ]
  },
  {
   "cell_type": "code",
   "execution_count": 120,
   "metadata": {},
   "outputs": [
    {
     "name": "stdout",
     "output_type": "stream",
     "text": [
      "     movie_id                             title      genres\n",
      "655       661  James and the Giant Peach (1996)   Animation\n",
      "655       661  James and the Giant Peach (1996)  Children's\n",
      "655       661  James and the Giant Peach (1996)     Musical\n"
     ]
    }
   ],
   "source": [
    "print(movies_result[movies_result['movie_id'] == 661])"
   ]
  },
  {
   "cell_type": "markdown",
   "metadata": {},
   "source": [
    "### 评分信息导入"
   ]
  },
  {
   "cell_type": "code",
   "execution_count": 121,
   "metadata": {},
   "outputs": [
    {
     "name": "stdout",
     "output_type": "stream",
     "text": [
      "   user_id  movie_id  rating  timestamp\n",
      "0        1      1193       5  978300760\n",
      "1        1       661       3  978302109\n",
      "2        1       914       3  978301968\n",
      "3        1      3408       4  978300275\n",
      "4        1      2355       5  978824291\n"
     ]
    }
   ],
   "source": [
    "# 评分信息\n",
    "rnames = ['user_id','movie_id','rating','timestamp']\n",
    "ratings = pd.read_table(ratings_file, header =None, sep='::',names=rnames, engine= 'python')\n",
    "print(ratings.head())"
   ]
  },
  {
   "cell_type": "markdown",
   "metadata": {},
   "source": [
    "### 评分信息处理"
   ]
  },
  {
   "cell_type": "code",
   "execution_count": 122,
   "metadata": {},
   "outputs": [
    {
     "name": "stdout",
     "output_type": "stream",
     "text": [
      "         user_id  movie_id  time\n",
      "0              1      1193     9\n",
      "1              1       661     9\n",
      "2              1       914     9\n",
      "3              1      3408     9\n",
      "4              1      2355    10\n",
      "...          ...       ...   ...\n",
      "1000204     6040      1091     1\n",
      "1000205     6040      1094     1\n",
      "1000206     6040       562     1\n",
      "1000207     6040      1096     1\n",
      "1000208     6040      1097     1\n",
      "\n",
      "[1000209 rows x 3 columns]\n"
     ]
    }
   ],
   "source": [
    "ratings['datetime'] = pd.to_datetime(ratings['timestamp'], unit='s')\n",
    "ratings[\"year\"] = ratings[\"datetime\"].dt.year.fillna(0).astype(\"int\")\n",
    "ratings[\"month\"] = ratings[\"datetime\"].dt.month.fillna(0).astype(\"int\")\n",
    "# 求最小的年份以及最小年份的最小月份\n",
    "minyear = ratings[\"year\"].min()\n",
    "minmonth = ratings[ratings[\"year\"] == minyear][\"month\"].min()\n",
    "# 最小年份的最小月份 计数为 1\n",
    "ratings[\"time\"] = (ratings[\"year\"] - minyear) * 12 + ratings[\"month\"] - minmonth + 1\n",
    "ratings = ratings[['user_id', 'movie_id', 'time']]\n",
    "print(ratings)"
   ]
  },
  {
   "cell_type": "code",
   "execution_count": 123,
   "metadata": {},
   "outputs": [
    {
     "name": "stdout",
     "output_type": "stream",
     "text": [
      "        user_id  movie_id  time\n",
      "0             1      1193     9\n",
      "120           2      1193     9\n",
      "1339         12      1193     9\n",
      "1518         15      1193     9\n",
      "1747         17      1193     9\n",
      "...         ...       ...   ...\n",
      "998284     6033      1193     1\n",
      "998423     6035      1193     1\n",
      "998894     6036      1193     1\n",
      "999580     6037      1193     1\n",
      "999958     6040      1193     2\n",
      "\n",
      "[1725 rows x 3 columns]\n"
     ]
    }
   ],
   "source": [
    "print(ratings[ratings['movie_id'] == 1193])"
   ]
  },
  {
   "cell_type": "markdown",
   "metadata": {},
   "source": [
    "### 电影信息和评分信息的拼接"
   ]
  },
  {
   "cell_type": "code",
   "execution_count": 124,
   "metadata": {},
   "outputs": [
    {
     "name": "stdout",
     "output_type": "stream",
     "text": [
      "   user_id  movie_id  time                                   title      genres\n",
      "0        1      1193     9  One Flew Over the Cuckoo's Nest (1975)       Drama\n",
      "1        1       661     9        James and the Giant Peach (1996)   Animation\n",
      "2        1       661     9        James and the Giant Peach (1996)  Children's\n",
      "3        1       661     9        James and the Giant Peach (1996)     Musical\n",
      "4        1       914     9                     My Fair Lady (1964)     Musical\n",
      "5        1       914     9                     My Fair Lady (1964)     Romance\n",
      "6        1      3408     9                  Erin Brockovich (2000)       Drama\n",
      "7        1      2355    10                    Bug's Life, A (1998)   Animation\n",
      "8        1      2355    10                    Bug's Life, A (1998)  Children's\n",
      "9        1      2355    10                    Bug's Life, A (1998)      Comedy\n"
     ]
    }
   ],
   "source": [
    "merge_data = pd.merge(ratings, movies_result, how='left', on='movie_id')\n",
    "print(merge_data.head(10))"
   ]
  },
  {
   "cell_type": "code",
   "execution_count": 125,
   "metadata": {},
   "outputs": [
    {
     "name": "stdout",
     "output_type": "stream",
     "text": [
      "   user_id  time      genres  counts\n",
      "0        1     9      Action       5\n",
      "1        1     9   Adventure       4\n",
      "2        1     9   Animation       7\n",
      "3        1     9  Children's      10\n",
      "4        1     9      Comedy       9\n",
      "5        1     9       Crime       2\n",
      "6        1     9       Drama      19\n",
      "7        1     9     Fantasy       3\n",
      "8        1     9     Musical       9\n",
      "9        1     9     Romance       5\n"
     ]
    }
   ],
   "source": [
    "temp = merge_data.groupby(['user_id', 'time', 'genres']).size().reset_index(name='counts')\n",
    "print(temp.head(10))"
   ]
  },
  {
   "cell_type": "code",
   "execution_count": 126,
   "metadata": {},
   "outputs": [
    {
     "name": "stdout",
     "output_type": "stream",
     "text": [
      "   user_id  time      genres  counts  genres_id\n",
      "0        1     9      Action       5          1\n",
      "1        1     9   Adventure       4          2\n",
      "2        1     9   Animation       7          3\n",
      "3        1     9  Children's      10          4\n",
      "4        1     9      Comedy       9          5\n",
      "5        1     9       Crime       2          6\n",
      "6        1     9       Drama      19          8\n",
      "7        1     9     Fantasy       3          9\n",
      "8        1     9     Musical       9         12\n",
      "9        1     9     Romance       5         14\n"
     ]
    }
   ],
   "source": [
    "# 获取所有的电影类型\n",
    "genres = pd.Series(temp['genres'].unique()).sort_values().reset_index(drop=True)\n",
    "# 将电影类型映射为数字\n",
    "temp['genres_id'] = temp['genres'].map(lambda x: genres[genres.values == x].index[0] + 1)\n",
    "print(temp.head(10))"
   ]
  },
  {
   "cell_type": "code",
   "execution_count": 127,
   "metadata": {},
   "outputs": [
    {
     "name": "stdout",
     "output_type": "stream",
     "text": [
      "   user_id  genres_id  time  counts\n",
      "0        1          1     9       5\n",
      "1        1          2     9       4\n",
      "2        1          3     9       7\n",
      "3        1          4     9      10\n",
      "4        1          5     9       9\n"
     ]
    }
   ],
   "source": [
    "main_info = temp[['user_id', 'genres_id',  'time', 'counts']]\n",
    "print(main_info.head())"
   ]
  },
  {
   "cell_type": "code",
   "execution_count": 128,
   "metadata": {},
   "outputs": [
    {
     "name": "stdout",
     "output_type": "stream",
     "text": [
      "6040\n",
      "18\n",
      "35\n"
     ]
    }
   ],
   "source": [
    "print(main_info['user_id'].max())\n",
    "print(main_info['genres_id'].max())\n",
    "print(main_info['time'].max())"
   ]
  },
  {
   "cell_type": "markdown",
   "metadata": {},
   "source": [
    "### 存储mainInfo"
   ]
  },
  {
   "cell_type": "code",
   "execution_count": 129,
   "metadata": {},
   "outputs": [],
   "source": [
    "main_info.to_csv('main_info.csv', index=False)"
   ]
  }
 ],
 "metadata": {
  "interpreter": {
   "hash": "0a15ee8102b585ca66226add757c82cfef1646202c21a5dd369849432ae8c823"
  },
  "kernelspec": {
   "display_name": "Python 3.7.5 64-bit ('jupyter_env': virtualenv)",
   "language": "python",
   "name": "python3"
  },
  "language_info": {
   "codemirror_mode": {
    "name": "ipython",
    "version": 3
   },
   "file_extension": ".py",
   "mimetype": "text/x-python",
   "name": "python",
   "nbconvert_exporter": "python",
   "pygments_lexer": "ipython3",
   "version": "3.7.5"
  },
  "orig_nbformat": 4
 },
 "nbformat": 4,
 "nbformat_minor": 2
}
