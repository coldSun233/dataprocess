{
 "cells": [
  {
   "cell_type": "code",
   "execution_count": 11,
   "metadata": {},
   "outputs": [
    {
     "name": "stderr",
     "output_type": "stream",
     "text": [
      "/home/lengyang/.virtualenvs/jupyter_env/lib/python3.7/site-packages/IPython/core/interactiveshell.py:3444: FutureWarning: The error_bad_lines argument has been deprecated and will be removed in a future version.\n",
      "\n",
      "\n",
      "  exec(code_obj, self.user_global_ns, self.user_ns)\n"
     ]
    }
   ],
   "source": [
    "import pandas as pd\n",
    "\n",
    "tsv = pd.read_csv(\"./data.tsv\",  delimiter=\"\\t\", error_bad_lines=False, header=None, names=[\"userid\", \"datetime\", \"artid\", \"artname\", \"traid\", \"traname\"])\n"
   ]
  },
  {
   "cell_type": "code",
   "execution_count": 12,
   "metadata": {},
   "outputs": [
    {
     "name": "stdout",
     "output_type": "stream",
     "text": [
      "               userid              datetime    artname\n",
      "0         user_000001  2009-05-04T23:08:57Z  Deep Dish\n",
      "1         user_000001  2009-05-04T13:54:10Z       坂本龍一\n",
      "2         user_000001  2009-05-04T13:52:04Z       坂本龍一\n",
      "3         user_000001  2009-05-04T13:42:52Z       坂本龍一\n",
      "4         user_000001  2009-05-04T13:42:11Z       坂本龍一\n",
      "...               ...                   ...        ...\n",
      "19098857  user_001000  2008-01-27T22:02:35Z      Wilco\n",
      "19098858  user_001000  2008-01-27T21:56:52Z      Wilco\n",
      "19098859  user_001000  2008-01-27T21:52:36Z      Wilco\n",
      "19098860  user_001000  2008-01-27T21:49:12Z      Wilco\n",
      "19098861  user_001000  2008-01-27T21:43:14Z      Wilco\n",
      "\n",
      "[19098862 rows x 3 columns]\n"
     ]
    }
   ],
   "source": [
    "# 获取目标列\n",
    "target = tsv[['userid', 'datetime', 'artname']]\n",
    "print(target)"
   ]
  },
  {
   "cell_type": "code",
   "execution_count": 13,
   "metadata": {},
   "outputs": [
    {
     "name": "stdout",
     "output_type": "stream",
     "text": [
      "119786                      Radiohead\n",
      "144501                    The Beatles\n",
      "106796                Nine Inch Nails\n",
      "103085                           Muse\n",
      "30730                        Coldplay\n",
      "                     ...             \n",
      "53881                  Fischerspooner\n",
      "18483                      Black Flag\n",
      "142786    Ted Leo And The Pharmacists\n",
      "3876                       Adam Green\n",
      "4362                       Aesop Rock\n",
      "Name: artname, Length: 350, dtype: object\n"
     ]
    }
   ],
   "source": [
    "# 统计所有艺术家出现次数\n",
    "count = target.groupby(\"artname\").size().reset_index(name='counts')\n",
    "# 降序排序\n",
    "sorted = count.sort_values(by=\"counts\", ascending=False)\n",
    "# 排名前n的艺术家\n",
    "topn = sorted[\"artname\"][0:350]\n",
    "print(topn)"
   ]
  },
  {
   "cell_type": "code",
   "execution_count": 14,
   "metadata": {},
   "outputs": [
    {
     "name": "stderr",
     "output_type": "stream",
     "text": [
      "/home/lengyang/.virtualenvs/jupyter_env/lib/python3.7/site-packages/ipykernel_launcher.py:4: SettingWithCopyWarning: \n",
      "A value is trying to be set on a copy of a slice from a DataFrame.\n",
      "Try using .loc[row_indexer,col_indexer] = value instead\n",
      "\n",
      "See the caveats in the documentation: https://pandas.pydata.org/pandas-docs/stable/user_guide/indexing.html#returning-a-view-versus-a-copy\n",
      "  after removing the cwd from sys.path.\n",
      "/home/lengyang/.virtualenvs/jupyter_env/lib/python3.7/site-packages/ipykernel_launcher.py:5: SettingWithCopyWarning: \n",
      "A value is trying to be set on a copy of a slice from a DataFrame.\n",
      "Try using .loc[row_indexer,col_indexer] = value instead\n",
      "\n",
      "See the caveats in the documentation: https://pandas.pydata.org/pandas-docs/stable/user_guide/indexing.html#returning-a-view-versus-a-copy\n",
      "  \"\"\"\n"
     ]
    },
    {
     "name": "stdout",
     "output_type": "stream",
     "text": [
      "               userid                  datetime   artname  year  month  time\n",
      "255       user_000001 2009-04-27 12:29:01+00:00  Röyksopp  2009      4    51\n",
      "256       user_000001 2009-04-27 12:29:01+00:00  Röyksopp  2009      4    51\n",
      "257       user_000001 2009-04-27 12:24:32+00:00  Röyksopp  2009      4    51\n",
      "258       user_000001 2009-04-27 12:24:32+00:00  Röyksopp  2009      4    51\n",
      "259       user_000001 2009-04-27 12:21:48+00:00  Röyksopp  2009      4    51\n",
      "...               ...                       ...       ...   ...    ...   ...\n",
      "19098857  user_001000 2008-01-27 22:02:35+00:00     Wilco  2008      1    36\n",
      "19098858  user_001000 2008-01-27 21:56:52+00:00     Wilco  2008      1    36\n",
      "19098859  user_001000 2008-01-27 21:52:36+00:00     Wilco  2008      1    36\n",
      "19098860  user_001000 2008-01-27 21:49:12+00:00     Wilco  2008      1    36\n",
      "19098861  user_001000 2008-01-27 21:43:14+00:00     Wilco  2008      1    36\n",
      "\n",
      "[6725637 rows x 6 columns]\n"
     ]
    },
    {
     "name": "stderr",
     "output_type": "stream",
     "text": [
      "/home/lengyang/.virtualenvs/jupyter_env/lib/python3.7/site-packages/ipykernel_launcher.py:6: SettingWithCopyWarning: \n",
      "A value is trying to be set on a copy of a slice from a DataFrame.\n",
      "Try using .loc[row_indexer,col_indexer] = value instead\n",
      "\n",
      "See the caveats in the documentation: https://pandas.pydata.org/pandas-docs/stable/user_guide/indexing.html#returning-a-view-versus-a-copy\n",
      "  \n",
      "/home/lengyang/.virtualenvs/jupyter_env/lib/python3.7/site-packages/ipykernel_launcher.py:11: SettingWithCopyWarning: \n",
      "A value is trying to be set on a copy of a slice from a DataFrame.\n",
      "Try using .loc[row_indexer,col_indexer] = value instead\n",
      "\n",
      "See the caveats in the documentation: https://pandas.pydata.org/pandas-docs/stable/user_guide/indexing.html#returning-a-view-versus-a-copy\n",
      "  # This is added back by InteractiveShellApp.init_path()\n"
     ]
    }
   ],
   "source": [
    "# 保留目标数据中topn的艺术家数据\n",
    "filtered = target[target[\"artname\"].isin(topn)]\n",
    "# string转为datetime类型\n",
    "filtered[\"datetime\"] = pd.to_datetime(filtered[\"datetime\"])\n",
    "filtered[\"year\"] = filtered[\"datetime\"].dt.year.fillna(0).astype(\"int\")\n",
    "filtered[\"month\"] = filtered[\"datetime\"].dt.month.fillna(0).astype(\"int\")\n",
    "# 求最小的年份以及最小年份的最小月份\n",
    "minyear = filtered[\"year\"].min()\n",
    "minmonth = filtered[filtered[\"year\"] == minyear][\"month\"].min()\n",
    "# 最小年份的最小月份 计数为 1\n",
    "filtered[\"time\"] = (filtered[\"year\"] - minyear) * 12 + filtered[\"month\"] - minmonth + 1\n",
    "print(filtered)"
   ]
  },
  {
   "cell_type": "code",
   "execution_count": 16,
   "metadata": {},
   "outputs": [
    {
     "name": "stderr",
     "output_type": "stream",
     "text": [
      "/home/lengyang/.virtualenvs/jupyter_env/lib/python3.7/site-packages/ipykernel_launcher.py:5: SettingWithCopyWarning: \n",
      "A value is trying to be set on a copy of a slice from a DataFrame.\n",
      "Try using .loc[row_indexer,col_indexer] = value instead\n",
      "\n",
      "See the caveats in the documentation: https://pandas.pydata.org/pandas-docs/stable/user_guide/indexing.html#returning-a-view-versus-a-copy\n",
      "  \"\"\"\n"
     ]
    },
    {
     "name": "stdout",
     "output_type": "stream",
     "text": [
      "               userid                  datetime   artname  year  month  time  \\\n",
      "255       user_000001 2009-04-27 12:29:01+00:00  Röyksopp  2009      4    51   \n",
      "256       user_000001 2009-04-27 12:29:01+00:00  Röyksopp  2009      4    51   \n",
      "257       user_000001 2009-04-27 12:24:32+00:00  Röyksopp  2009      4    51   \n",
      "258       user_000001 2009-04-27 12:24:32+00:00  Röyksopp  2009      4    51   \n",
      "259       user_000001 2009-04-27 12:21:48+00:00  Röyksopp  2009      4    51   \n",
      "...               ...                       ...       ...   ...    ...   ...   \n",
      "19098857  user_001000 2008-01-27 22:02:35+00:00     Wilco  2008      1    36   \n",
      "19098858  user_001000 2008-01-27 21:56:52+00:00     Wilco  2008      1    36   \n",
      "19098859  user_001000 2008-01-27 21:52:36+00:00     Wilco  2008      1    36   \n",
      "19098860  user_001000 2008-01-27 21:49:12+00:00     Wilco  2008      1    36   \n",
      "19098861  user_001000 2008-01-27 21:43:14+00:00     Wilco  2008      1    36   \n",
      "\n",
      "          user  artist  \n",
      "255          1       1  \n",
      "256          1       1  \n",
      "257          1       1  \n",
      "258          1       1  \n",
      "259          1       1  \n",
      "...        ...     ...  \n",
      "19098857   989     156  \n",
      "19098858   989     156  \n",
      "19098859   989     156  \n",
      "19098860   989     156  \n",
      "19098861   989     156  \n",
      "\n",
      "[6725637 rows x 8 columns]\n"
     ]
    },
    {
     "name": "stderr",
     "output_type": "stream",
     "text": [
      "/home/lengyang/.virtualenvs/jupyter_env/lib/python3.7/site-packages/ipykernel_launcher.py:6: SettingWithCopyWarning: \n",
      "A value is trying to be set on a copy of a slice from a DataFrame.\n",
      "Try using .loc[row_indexer,col_indexer] = value instead\n",
      "\n",
      "See the caveats in the documentation: https://pandas.pydata.org/pandas-docs/stable/user_guide/indexing.html#returning-a-view-versus-a-copy\n",
      "  \n"
     ]
    }
   ],
   "source": [
    "# 获得所有的user\n",
    "users = pd.Series(filtered[\"userid\"].unique())\n",
    "artists = pd.Series(filtered[\"artname\"].unique())\n",
    "# 将userId  artname 映射为 index\n",
    "filtered[\"user\"] = filtered[\"userid\"].map(lambda x: users[users.values == x].index[0] + 1)\n",
    "filtered[\"artist\"] = filtered[\"artname\"].map(lambda x: artists[artists.values == x].index[0] + 1)\n",
    "print(filtered)"
   ]
  },
  {
   "cell_type": "code",
   "execution_count": 26,
   "metadata": {},
   "outputs": [
    {
     "name": "stdout",
     "output_type": "stream",
     "text": [
      "        user  time  artist  counts\n",
      "0          1    19       1       1\n",
      "1          1    19       5       2\n",
      "2          1    19       6      23\n",
      "3          1    19       7       2\n",
      "4          1    19      12       1\n",
      "...      ...   ...     ...     ...\n",
      "663073   989    51     283      50\n",
      "663074   989    51     298      29\n",
      "663075   989    51     334       1\n",
      "663076   989    52       5       9\n",
      "663077   989    52      87       8\n",
      "\n",
      "[663078 rows x 4 columns]\n"
     ]
    }
   ],
   "source": [
    "temp = filtered[[\"user\", \"time\", \"artist\"]]\n",
    "temp = temp[temp[\"time\"] <  55 ]\n",
    "result = temp.groupby([\"user\", \"time\", \"artist\"]).size().reset_index(name='counts')\n",
    "print(result)"
   ]
  },
  {
   "cell_type": "code",
   "execution_count": 28,
   "metadata": {},
   "outputs": [
    {
     "name": "stdout",
     "output_type": "stream",
     "text": [
      "53\n",
      "1\n"
     ]
    }
   ],
   "source": [
    "print(result[\"time\"].max())\n",
    "print(result[\"time\"].min())"
   ]
  },
  {
   "cell_type": "code",
   "execution_count": 18,
   "metadata": {},
   "outputs": [],
   "source": [
    "# result.to_csv('result.csv', index=False)"
   ]
  }
 ],
 "metadata": {
  "interpreter": {
   "hash": "0a15ee8102b585ca66226add757c82cfef1646202c21a5dd369849432ae8c823"
  },
  "kernelspec": {
   "display_name": "Python 3.7.5 64-bit ('jupyter_env': virtualenv)",
   "language": "python",
   "name": "python3"
  },
  "language_info": {
   "codemirror_mode": {
    "name": "ipython",
    "version": 3
   },
   "file_extension": ".py",
   "mimetype": "text/x-python",
   "name": "python",
   "nbconvert_exporter": "python",
   "pygments_lexer": "ipython3",
   "version": "3.7.5"
  },
  "orig_nbformat": 4
 },
 "nbformat": 4,
 "nbformat_minor": 2
}
